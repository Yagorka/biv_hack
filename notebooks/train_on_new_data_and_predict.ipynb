{
 "cells": [
  {
   "cell_type": "code",
   "execution_count": 1,
   "metadata": {},
   "outputs": [
    {
     "name": "stderr",
     "output_type": "stream",
     "text": [
      "[nltk_data] Downloading package stopwords to /home/yagor/nltk_data...\n",
      "[nltk_data]   Package stopwords is already up-to-date!\n"
     ]
    }
   ],
   "source": [
    "import pandas as pd\n",
    "import numpy as np\n",
    "import seaborn as sns\n",
    "import matplotlib.pyplot as plt\n",
    "from sklearn.preprocessing import LabelEncoder\n",
    "from sklearn.feature_extraction.text import TfidfVectorizer\n",
    "from sklearn.model_selection import train_test_split\n",
    "from sklearn.ensemble import RandomForestClassifier\n",
    "from sklearn.metrics import accuracy_score, classification_report, confusion_matrix\n",
    "from sklearn.naive_bayes import MultinomialNB\n",
    "from sklearn.ensemble import GradientBoostingClassifier\n",
    "import nltk\n",
    "import re \n",
    "nltk.download(\"stopwords\")\n",
    "from nltk.corpus import stopwords\n",
    "from nltk.stem.porter import *\n",
    "from tqdm.auto import tqdm\n",
    "tqdm.pandas()\n",
    "import pymorphy2\n",
    "morph = pymorphy2.MorphAnalyzer()"
   ]
  },
  {
   "cell_type": "code",
   "execution_count": 2,
   "metadata": {},
   "outputs": [],
   "source": [
    "train_data = pd.read_csv('/home/yagor/Рабочий стол/BIV/bertembeded_logreg.csv', index_col=0)"
   ]
  },
  {
   "cell_type": "code",
   "execution_count": 3,
   "metadata": {},
   "outputs": [
    {
     "data": {
      "text/html": [
       "<div>\n",
       "<style scoped>\n",
       "    .dataframe tbody tr th:only-of-type {\n",
       "        vertical-align: middle;\n",
       "    }\n",
       "\n",
       "    .dataframe tbody tr th {\n",
       "        vertical-align: top;\n",
       "    }\n",
       "\n",
       "    .dataframe thead th {\n",
       "        text-align: right;\n",
       "    }\n",
       "</style>\n",
       "<table border=\"1\" class=\"dataframe\">\n",
       "  <thead>\n",
       "    <tr style=\"text-align: right;\">\n",
       "      <th></th>\n",
       "      <th>date</th>\n",
       "      <th>sum</th>\n",
       "      <th>text</th>\n",
       "      <th>category</th>\n",
       "      <th>proba</th>\n",
       "    </tr>\n",
       "    <tr>\n",
       "      <th>number</th>\n",
       "      <th></th>\n",
       "      <th></th>\n",
       "      <th></th>\n",
       "      <th></th>\n",
       "      <th></th>\n",
       "    </tr>\n",
       "  </thead>\n",
       "  <tbody>\n",
       "    <tr>\n",
       "      <th>1</th>\n",
       "      <td>07.11.2024</td>\n",
       "      <td>40500.00</td>\n",
       "      <td>За тур.поездку по договору №001 от 27.01.2023г</td>\n",
       "      <td>7</td>\n",
       "      <td>0.999575</td>\n",
       "    </tr>\n",
       "    <tr>\n",
       "      <th>2</th>\n",
       "      <td>07.11.2024</td>\n",
       "      <td>32600,00</td>\n",
       "      <td>За оказание услуг по договору №53Б-02746 от 23...</td>\n",
       "      <td>7</td>\n",
       "      <td>0.999950</td>\n",
       "    </tr>\n",
       "    <tr>\n",
       "      <th>3</th>\n",
       "      <td>07.11.2024</td>\n",
       "      <td>4710-00</td>\n",
       "      <td>Оплата штрафа</td>\n",
       "      <td>8</td>\n",
       "      <td>0.923104</td>\n",
       "    </tr>\n",
       "    <tr>\n",
       "      <th>4</th>\n",
       "      <td>07.11.2024</td>\n",
       "      <td>30900-00</td>\n",
       "      <td>Лечение по договору №Д-00359/24 от 08.03.2025</td>\n",
       "      <td>7</td>\n",
       "      <td>0.999642</td>\n",
       "    </tr>\n",
       "    <tr>\n",
       "      <th>5</th>\n",
       "      <td>07.11.2024</td>\n",
       "      <td>13200.00</td>\n",
       "      <td>Оплата основного долга за период с 16.12.2024г...</td>\n",
       "      <td>6</td>\n",
       "      <td>0.995218</td>\n",
       "    </tr>\n",
       "    <tr>\n",
       "      <th>...</th>\n",
       "      <td>...</td>\n",
       "      <td>...</td>\n",
       "      <td>...</td>\n",
       "      <td>...</td>\n",
       "      <td>...</td>\n",
       "    </tr>\n",
       "    <tr>\n",
       "      <th>24996</th>\n",
       "      <td>07.11.2024</td>\n",
       "      <td>3300000,00</td>\n",
       "      <td>Оплата по договору №Е01905 от 25.02.2023. сырь...</td>\n",
       "      <td>4</td>\n",
       "      <td>0.997016</td>\n",
       "    </tr>\n",
       "    <tr>\n",
       "      <th>24997</th>\n",
       "      <td>07.11.2024</td>\n",
       "      <td>2270,00</td>\n",
       "      <td>гос.услуга</td>\n",
       "      <td>8</td>\n",
       "      <td>0.996888</td>\n",
       "    </tr>\n",
       "    <tr>\n",
       "      <th>24998</th>\n",
       "      <td>07.11.2024</td>\n",
       "      <td>1750000.00</td>\n",
       "      <td>Предоставление кредита по договору №Д-00803/03...</td>\n",
       "      <td>6</td>\n",
       "      <td>0.988926</td>\n",
       "    </tr>\n",
       "    <tr>\n",
       "      <th>24999</th>\n",
       "      <td>07.11.2024</td>\n",
       "      <td>3560.00</td>\n",
       "      <td>Оплата гос. пошлины</td>\n",
       "      <td>8</td>\n",
       "      <td>0.999498</td>\n",
       "    </tr>\n",
       "    <tr>\n",
       "      <th>25000</th>\n",
       "      <td>07.11.2024</td>\n",
       "      <td>2910.00</td>\n",
       "      <td>Оплата за Подушечки Любятово с шоколадной начи...</td>\n",
       "      <td>5</td>\n",
       "      <td>0.892283</td>\n",
       "    </tr>\n",
       "  </tbody>\n",
       "</table>\n",
       "<p>25000 rows × 5 columns</p>\n",
       "</div>"
      ],
      "text/plain": [
       "              date         sum  \\\n",
       "number                           \n",
       "1       07.11.2024    40500.00   \n",
       "2       07.11.2024    32600,00   \n",
       "3       07.11.2024     4710-00   \n",
       "4       07.11.2024    30900-00   \n",
       "5       07.11.2024    13200.00   \n",
       "...            ...         ...   \n",
       "24996   07.11.2024  3300000,00   \n",
       "24997   07.11.2024     2270,00   \n",
       "24998   07.11.2024  1750000.00   \n",
       "24999   07.11.2024     3560.00   \n",
       "25000   07.11.2024     2910.00   \n",
       "\n",
       "                                                     text  category     proba  \n",
       "number                                                                         \n",
       "1          За тур.поездку по договору №001 от 27.01.2023г         7  0.999575  \n",
       "2       За оказание услуг по договору №53Б-02746 от 23...         7  0.999950  \n",
       "3                                           Оплата штрафа         8  0.923104  \n",
       "4           Лечение по договору №Д-00359/24 от 08.03.2025         7  0.999642  \n",
       "5       Оплата основного долга за период с 16.12.2024г...         6  0.995218  \n",
       "...                                                   ...       ...       ...  \n",
       "24996   Оплата по договору №Е01905 от 25.02.2023. сырь...         4  0.997016  \n",
       "24997                                          гос.услуга         8  0.996888  \n",
       "24998   Предоставление кредита по договору №Д-00803/03...         6  0.988926  \n",
       "24999                                 Оплата гос. пошлины         8  0.999498  \n",
       "25000   Оплата за Подушечки Любятово с шоколадной начи...         5  0.892283  \n",
       "\n",
       "[25000 rows x 5 columns]"
      ]
     },
     "execution_count": 3,
     "metadata": {},
     "output_type": "execute_result"
    }
   ],
   "source": [
    "train_data"
   ]
  },
  {
   "cell_type": "code",
   "execution_count": 4,
   "metadata": {},
   "outputs": [
    {
     "data": {
      "text/html": [
       "<div>\n",
       "<style scoped>\n",
       "    .dataframe tbody tr th:only-of-type {\n",
       "        vertical-align: middle;\n",
       "    }\n",
       "\n",
       "    .dataframe tbody tr th {\n",
       "        vertical-align: top;\n",
       "    }\n",
       "\n",
       "    .dataframe thead th {\n",
       "        text-align: right;\n",
       "    }\n",
       "</style>\n",
       "<table border=\"1\" class=\"dataframe\">\n",
       "  <thead>\n",
       "    <tr style=\"text-align: right;\">\n",
       "      <th></th>\n",
       "      <th>date</th>\n",
       "      <th>sum</th>\n",
       "      <th>text</th>\n",
       "      <th>category</th>\n",
       "      <th>proba</th>\n",
       "    </tr>\n",
       "    <tr>\n",
       "      <th>number</th>\n",
       "      <th></th>\n",
       "      <th></th>\n",
       "      <th></th>\n",
       "      <th></th>\n",
       "      <th></th>\n",
       "    </tr>\n",
       "  </thead>\n",
       "  <tbody>\n",
       "    <tr>\n",
       "      <th>1</th>\n",
       "      <td>07.11.2024</td>\n",
       "      <td>40500.00</td>\n",
       "      <td>За тур.поездку по договору №001 от 27.01.2023г</td>\n",
       "      <td>7</td>\n",
       "      <td>0.999575</td>\n",
       "    </tr>\n",
       "    <tr>\n",
       "      <th>2</th>\n",
       "      <td>07.11.2024</td>\n",
       "      <td>32600,00</td>\n",
       "      <td>За оказание услуг по договору №53Б-02746 от 23...</td>\n",
       "      <td>7</td>\n",
       "      <td>0.999950</td>\n",
       "    </tr>\n",
       "    <tr>\n",
       "      <th>4</th>\n",
       "      <td>07.11.2024</td>\n",
       "      <td>30900-00</td>\n",
       "      <td>Лечение по договору №Д-00359/24 от 08.03.2025</td>\n",
       "      <td>7</td>\n",
       "      <td>0.999642</td>\n",
       "    </tr>\n",
       "    <tr>\n",
       "      <th>5</th>\n",
       "      <td>07.11.2024</td>\n",
       "      <td>13200.00</td>\n",
       "      <td>Оплата основного долга за период с 16.12.2024г...</td>\n",
       "      <td>6</td>\n",
       "      <td>0.995218</td>\n",
       "    </tr>\n",
       "    <tr>\n",
       "      <th>6</th>\n",
       "      <td>07.11.2024</td>\n",
       "      <td>4210.00</td>\n",
       "      <td>Оплата за Бульон Роллтон Домашний куриный 90г ...</td>\n",
       "      <td>5</td>\n",
       "      <td>0.999649</td>\n",
       "    </tr>\n",
       "    <tr>\n",
       "      <th>...</th>\n",
       "      <td>...</td>\n",
       "      <td>...</td>\n",
       "      <td>...</td>\n",
       "      <td>...</td>\n",
       "      <td>...</td>\n",
       "    </tr>\n",
       "    <tr>\n",
       "      <th>24995</th>\n",
       "      <td>07.11.2024</td>\n",
       "      <td>4560000-00</td>\n",
       "      <td>Оплата по договору процентного займа №46-04624...</td>\n",
       "      <td>0</td>\n",
       "      <td>0.998126</td>\n",
       "    </tr>\n",
       "    <tr>\n",
       "      <th>24996</th>\n",
       "      <td>07.11.2024</td>\n",
       "      <td>3300000,00</td>\n",
       "      <td>Оплата по договору №Е01905 от 25.02.2023. сырь...</td>\n",
       "      <td>4</td>\n",
       "      <td>0.997016</td>\n",
       "    </tr>\n",
       "    <tr>\n",
       "      <th>24997</th>\n",
       "      <td>07.11.2024</td>\n",
       "      <td>2270,00</td>\n",
       "      <td>гос.услуга</td>\n",
       "      <td>8</td>\n",
       "      <td>0.996888</td>\n",
       "    </tr>\n",
       "    <tr>\n",
       "      <th>24998</th>\n",
       "      <td>07.11.2024</td>\n",
       "      <td>1750000.00</td>\n",
       "      <td>Предоставление кредита по договору №Д-00803/03...</td>\n",
       "      <td>6</td>\n",
       "      <td>0.988926</td>\n",
       "    </tr>\n",
       "    <tr>\n",
       "      <th>24999</th>\n",
       "      <td>07.11.2024</td>\n",
       "      <td>3560.00</td>\n",
       "      <td>Оплата гос. пошлины</td>\n",
       "      <td>8</td>\n",
       "      <td>0.999498</td>\n",
       "    </tr>\n",
       "  </tbody>\n",
       "</table>\n",
       "<p>19252 rows × 5 columns</p>\n",
       "</div>"
      ],
      "text/plain": [
       "              date         sum  \\\n",
       "number                           \n",
       "1       07.11.2024    40500.00   \n",
       "2       07.11.2024    32600,00   \n",
       "4       07.11.2024    30900-00   \n",
       "5       07.11.2024    13200.00   \n",
       "6       07.11.2024     4210.00   \n",
       "...            ...         ...   \n",
       "24995   07.11.2024  4560000-00   \n",
       "24996   07.11.2024  3300000,00   \n",
       "24997   07.11.2024     2270,00   \n",
       "24998   07.11.2024  1750000.00   \n",
       "24999   07.11.2024     3560.00   \n",
       "\n",
       "                                                     text  category     proba  \n",
       "number                                                                         \n",
       "1          За тур.поездку по договору №001 от 27.01.2023г         7  0.999575  \n",
       "2       За оказание услуг по договору №53Б-02746 от 23...         7  0.999950  \n",
       "4           Лечение по договору №Д-00359/24 от 08.03.2025         7  0.999642  \n",
       "5       Оплата основного долга за период с 16.12.2024г...         6  0.995218  \n",
       "6       Оплата за Бульон Роллтон Домашний куриный 90г ...         5  0.999649  \n",
       "...                                                   ...       ...       ...  \n",
       "24995   Оплата по договору процентного займа №46-04624...         0  0.998126  \n",
       "24996   Оплата по договору №Е01905 от 25.02.2023. сырь...         4  0.997016  \n",
       "24997                                          гос.услуга         8  0.996888  \n",
       "24998   Предоставление кредита по договору №Д-00803/03...         6  0.988926  \n",
       "24999                                 Оплата гос. пошлины         8  0.999498  \n",
       "\n",
       "[19252 rows x 5 columns]"
      ]
     },
     "execution_count": 4,
     "metadata": {},
     "output_type": "execute_result"
    }
   ],
   "source": [
    "train_data = train_data[train_data['proba']>=0.94]\n",
    "train_data"
   ]
  },
  {
   "cell_type": "code",
   "execution_count": 5,
   "metadata": {},
   "outputs": [
    {
     "name": "stderr",
     "output_type": "stream",
     "text": [
      "/tmp/ipykernel_5805/825965816.py:1: SettingWithCopyWarning: \n",
      "A value is trying to be set on a copy of a slice from a DataFrame.\n",
      "Try using .loc[row_indexer,col_indexer] = value instead\n",
      "\n",
      "See the caveats in the documentation: https://pandas.pydata.org/pandas-docs/stable/user_guide/indexing.html#returning-a-view-versus-a-copy\n",
      "  train_data['summa'] = train_data['sum'].str.replace('[^\\w]', '.', regex=True).astype(float)\n"
     ]
    }
   ],
   "source": [
    "train_data['summa'] = train_data['sum'].str.replace('[^\\w]', '.', regex=True).astype(float)"
   ]
  },
  {
   "cell_type": "code",
   "execution_count": 6,
   "metadata": {},
   "outputs": [],
   "source": [
    "# train_data['label'] = train_data['category'].apply(lambda x: rename_dict[x])"
   ]
  },
  {
   "cell_type": "code",
   "execution_count": 7,
   "metadata": {},
   "outputs": [],
   "source": [
    "test_data = pd.read_csv('/home/yagor/Рабочий стол/BIV/Кейс 1_for-teams/for-teams/payments_training.tsv', index_col=0, sep='\\t', names = ['number',  'date',  'sum', 'text', 'category'])"
   ]
  },
  {
   "cell_type": "code",
   "execution_count": 8,
   "metadata": {},
   "outputs": [
    {
     "data": {
      "text/plain": [
       "'За участие в конференции в г. Майкоп по договору 88.367840-ДВ от 11 апреля 2026'"
      ]
     },
     "execution_count": 8,
     "metadata": {},
     "output_type": "execute_result"
    }
   ],
   "source": [
    "test_data['text'].values[0]"
   ]
  },
  {
   "cell_type": "code",
   "execution_count": 9,
   "metadata": {},
   "outputs": [],
   "source": [
    "rename_dict = {'LOAN': 0,\n",
    " 'REALE_STATE': 1,\n",
    " 'LEASING': 2,\n",
    " 'NOT_CLASSIFIED': 3,\n",
    " 'NON_FOOD_GOODS': 4,\n",
    " 'FOOD_GOODS': 5,\n",
    " 'BANK_SERVICE': 6,\n",
    " 'SERVICE': 7,\n",
    " 'TAX': 8}"
   ]
  },
  {
   "cell_type": "code",
   "execution_count": 10,
   "metadata": {},
   "outputs": [],
   "source": [
    "test_data['label'] = test_data['category'].apply(lambda x: rename_dict[x])"
   ]
  },
  {
   "cell_type": "code",
   "execution_count": 11,
   "metadata": {},
   "outputs": [
    {
     "data": {
      "text/html": [
       "<div>\n",
       "<style scoped>\n",
       "    .dataframe tbody tr th:only-of-type {\n",
       "        vertical-align: middle;\n",
       "    }\n",
       "\n",
       "    .dataframe tbody tr th {\n",
       "        vertical-align: top;\n",
       "    }\n",
       "\n",
       "    .dataframe thead th {\n",
       "        text-align: right;\n",
       "    }\n",
       "</style>\n",
       "<table border=\"1\" class=\"dataframe\">\n",
       "  <thead>\n",
       "    <tr style=\"text-align: right;\">\n",
       "      <th></th>\n",
       "      <th>date</th>\n",
       "      <th>sum</th>\n",
       "      <th>text</th>\n",
       "      <th>category</th>\n",
       "      <th>label</th>\n",
       "    </tr>\n",
       "    <tr>\n",
       "      <th>number</th>\n",
       "      <th></th>\n",
       "      <th></th>\n",
       "      <th></th>\n",
       "      <th></th>\n",
       "      <th></th>\n",
       "    </tr>\n",
       "  </thead>\n",
       "  <tbody>\n",
       "    <tr>\n",
       "      <th>1</th>\n",
       "      <td>07.11.2024</td>\n",
       "      <td>15300.00</td>\n",
       "      <td>За участие в конференции в г. Майкоп по догово...</td>\n",
       "      <td>SERVICE</td>\n",
       "      <td>7</td>\n",
       "    </tr>\n",
       "    <tr>\n",
       "      <th>2</th>\n",
       "      <td>07.11.2024</td>\n",
       "      <td>40200,00</td>\n",
       "      <td>За оказание услуг по договору №79-02726В от 01...</td>\n",
       "      <td>SERVICE</td>\n",
       "      <td>7</td>\n",
       "    </tr>\n",
       "    <tr>\n",
       "      <th>3</th>\n",
       "      <td>07.11.2024</td>\n",
       "      <td>1440-00</td>\n",
       "      <td>Оплата за Порошок стиральный Ariel Color autom...</td>\n",
       "      <td>NON_FOOD_GOODS</td>\n",
       "      <td>4</td>\n",
       "    </tr>\n",
       "    <tr>\n",
       "      <th>4</th>\n",
       "      <td>07.11.2024</td>\n",
       "      <td>240000000-00</td>\n",
       "      <td>Возврат денежных средств по договору займа №04...</td>\n",
       "      <td>LOAN</td>\n",
       "      <td>0</td>\n",
       "    </tr>\n",
       "    <tr>\n",
       "      <th>5</th>\n",
       "      <td>07.11.2024</td>\n",
       "      <td>1360000.00</td>\n",
       "      <td>Оплата Дог №452 от 13/03/2021, согл. Сч 0745-2...</td>\n",
       "      <td>NOT_CLASSIFIED</td>\n",
       "      <td>3</td>\n",
       "    </tr>\n",
       "    <tr>\n",
       "      <th>...</th>\n",
       "      <td>...</td>\n",
       "      <td>...</td>\n",
       "      <td>...</td>\n",
       "      <td>...</td>\n",
       "      <td>...</td>\n",
       "    </tr>\n",
       "    <tr>\n",
       "      <th>496</th>\n",
       "      <td>07.11.2024</td>\n",
       "      <td>2610.00</td>\n",
       "      <td>Оплата налогов</td>\n",
       "      <td>TAX</td>\n",
       "      <td>8</td>\n",
       "    </tr>\n",
       "    <tr>\n",
       "      <th>497</th>\n",
       "      <td>07.11.2024</td>\n",
       "      <td>31200-00</td>\n",
       "      <td>Комиссия за выполнение функций агента валютног...</td>\n",
       "      <td>BANK_SERVICE</td>\n",
       "      <td>6</td>\n",
       "    </tr>\n",
       "    <tr>\n",
       "      <th>498</th>\n",
       "      <td>07.11.2024</td>\n",
       "      <td>18200-00</td>\n",
       "      <td>За тур.поездку по договору №75-04243Г от 24/04...</td>\n",
       "      <td>SERVICE</td>\n",
       "      <td>7</td>\n",
       "    </tr>\n",
       "    <tr>\n",
       "      <th>499</th>\n",
       "      <td>07.11.2024</td>\n",
       "      <td>2870000,00</td>\n",
       "      <td>Оплата по договору №095 от 24.02.2025г, счету ...</td>\n",
       "      <td>FOOD_GOODS</td>\n",
       "      <td>5</td>\n",
       "    </tr>\n",
       "    <tr>\n",
       "      <th>500</th>\n",
       "      <td>07.11.2024</td>\n",
       "      <td>2210-00</td>\n",
       "      <td>Оплата коммунальных услуг</td>\n",
       "      <td>SERVICE</td>\n",
       "      <td>7</td>\n",
       "    </tr>\n",
       "  </tbody>\n",
       "</table>\n",
       "<p>500 rows × 5 columns</p>\n",
       "</div>"
      ],
      "text/plain": [
       "              date           sum  \\\n",
       "number                             \n",
       "1       07.11.2024      15300.00   \n",
       "2       07.11.2024      40200,00   \n",
       "3       07.11.2024       1440-00   \n",
       "4       07.11.2024  240000000-00   \n",
       "5       07.11.2024    1360000.00   \n",
       "...            ...           ...   \n",
       "496     07.11.2024       2610.00   \n",
       "497     07.11.2024      31200-00   \n",
       "498     07.11.2024      18200-00   \n",
       "499     07.11.2024    2870000,00   \n",
       "500     07.11.2024       2210-00   \n",
       "\n",
       "                                                     text        category  \\\n",
       "number                                                                      \n",
       "1       За участие в конференции в г. Майкоп по догово...         SERVICE   \n",
       "2       За оказание услуг по договору №79-02726В от 01...         SERVICE   \n",
       "3       Оплата за Порошок стиральный Ariel Color autom...  NON_FOOD_GOODS   \n",
       "4       Возврат денежных средств по договору займа №04...            LOAN   \n",
       "5       Оплата Дог №452 от 13/03/2021, согл. Сч 0745-2...  NOT_CLASSIFIED   \n",
       "...                                                   ...             ...   \n",
       "496                                        Оплата налогов             TAX   \n",
       "497     Комиссия за выполнение функций агента валютног...    BANK_SERVICE   \n",
       "498     За тур.поездку по договору №75-04243Г от 24/04...         SERVICE   \n",
       "499     Оплата по договору №095 от 24.02.2025г, счету ...      FOOD_GOODS   \n",
       "500                             Оплата коммунальных услуг         SERVICE   \n",
       "\n",
       "        label  \n",
       "number         \n",
       "1           7  \n",
       "2           7  \n",
       "3           4  \n",
       "4           0  \n",
       "5           3  \n",
       "...       ...  \n",
       "496         8  \n",
       "497         6  \n",
       "498         7  \n",
       "499         5  \n",
       "500         7  \n",
       "\n",
       "[500 rows x 5 columns]"
      ]
     },
     "execution_count": 11,
     "metadata": {},
     "output_type": "execute_result"
    }
   ],
   "source": [
    "test_data"
   ]
  },
  {
   "cell_type": "code",
   "execution_count": 12,
   "metadata": {},
   "outputs": [],
   "source": [
    "# Получение русских стоп-слов\n",
    "russian_stopwords = set(stopwords.words('russian'))\n",
    "# Добавим специфичные для платежей стоп-слова\n",
    "payment_stopwords = {'оплата', 'по', 'от', 'за', 'сумма', 'без', 'ндс', 'договор', 'счет', 'счёт'} #'оплата', 'по', 'от', 'за', 'сумма', 'без', 'ндс', 'договор', 'счет', 'счёт'\n",
    "russian_stopwords.update(payment_stopwords)\n",
    "\n"
   ]
  },
  {
   "cell_type": "code",
   "execution_count": 13,
   "metadata": {},
   "outputs": [],
   "source": [
    "def normalize(word):\n",
    "    return morph.parse(word)[0].normal_form"
   ]
  },
  {
   "cell_type": "code",
   "execution_count": 14,
   "metadata": {},
   "outputs": [],
   "source": [
    "def clean_text(text):\n",
    "    \"\"\"Базовая очистка текста\"\"\"\n",
    "    if isinstance(text, str):\n",
    "        # Приведение к нижнему регистру\n",
    "        text = text.lower()\n",
    "        # Удаление цифр и специальных символов, оставляя пробелы между словами\n",
    "        text = re.sub(r'[^а-яёa-z\\s]', ' ', text)\n",
    "        text = \" \".join([normalize(word) for word in text.split() if word not in russian_stopwords and len(word) > 2])\n",
    "        # Удаление множественных пробелов\n",
    "        text = re.sub(r'\\s+', ' ', text)\n",
    "        return text.strip()\n",
    "    return \"\""
   ]
  },
  {
   "cell_type": "code",
   "execution_count": 15,
   "metadata": {},
   "outputs": [
    {
     "name": "stderr",
     "output_type": "stream",
     "text": [
      "/tmp/ipykernel_5805/1183253440.py:4: SettingWithCopyWarning: \n",
      "A value is trying to be set on a copy of a slice from a DataFrame.\n",
      "Try using .loc[row_indexer,col_indexer] = value instead\n",
      "\n",
      "See the caveats in the documentation: https://pandas.pydata.org/pandas-docs/stable/user_guide/indexing.html#returning-a-view-versus-a-copy\n",
      "  train_data['cleaned_text'] = train_data['text'].apply(clean_text)\n"
     ]
    }
   ],
   "source": [
    "# Очистка текста\n",
    "test_data['cleaned_text'] = test_data['text'].apply(clean_text)\n",
    "# Очистка текста\n",
    "train_data['cleaned_text'] = train_data['text'].apply(clean_text)"
   ]
  },
  {
   "cell_type": "code",
   "execution_count": 16,
   "metadata": {},
   "outputs": [],
   "source": [
    "import torch\n",
    "import transformers as ppb\n",
    "\n",
    "from sklearn.linear_model import LogisticRegression\n",
    "from sklearn.model_selection import GridSearchCV\n",
    "from sklearn.model_selection import cross_val_score"
   ]
  },
  {
   "cell_type": "code",
   "execution_count": 17,
   "metadata": {},
   "outputs": [],
   "source": [
    "# For DistilBERT:\n",
    "model_class, tokenizer_class, pretrained_weights = (ppb.AutoModel, ppb.AutoTokenizer, 'cointegrated/LaBSE-en-ru')\n",
    "\n",
    "## Want BERT instead of distilBERT? Uncomment the following line:\n",
    "#model_class, tokenizer_class, pretrained_weights = (ppb.BertModel, ppb.BertTokenizer, 'bert-base-uncased')\n",
    "\n",
    "# Load pretrained model/tokenizer\n",
    "tokenizer = tokenizer_class.from_pretrained(pretrained_weights)\n",
    "model = model_class.from_pretrained(pretrained_weights)"
   ]
  },
  {
   "cell_type": "code",
   "execution_count": 18,
   "metadata": {},
   "outputs": [],
   "source": [
    "# tokenized = train_data['cleaned_text'].apply((lambda x: tokenizer.encode(x, add_special_tokens=True)))"
   ]
  },
  {
   "cell_type": "code",
   "execution_count": 19,
   "metadata": {},
   "outputs": [],
   "source": [
    "# import torch\n",
    "# from transformers import AutoTokenizer, AutoModel\n",
    "# tokenizer = AutoTokenizer.from_pretrained(\"cointegrated/LaBSE-en-ru\")\n",
    "# model = AutoModel.from_pretrained(\"cointegrated/LaBSE-en-ru\")\n",
    "# sentences = [\"Hello World\", \"Привет Мир\"]\n",
    "# encoded_input = tokenizer(sentences, padding=True, truncation=True, max_length=64, return_tensors='pt')\n",
    "# with torch.no_grad():\n",
    "#     model_output = model(**encoded_input)\n",
    "# embeddings = model_output.pooler_output\n",
    "# embeddings = torch.nn.functional.normalize(embeddings)"
   ]
  },
  {
   "cell_type": "markdown",
   "metadata": {
    "colab_type": "text",
    "id": "lZDBMn3wiSX6"
   },
   "source": [
    "Right now, the variable `model` holds a pretrained distilBERT model -- a version of BERT that is smaller, but much faster and requiring a lot less memory.\n",
    "\n",
    "### Step #1: Preparing the Dataset\n",
    "Before we can hand our sentences to BERT, we need to so some minimal processing to put them in the format it requires.\n",
    "\n",
    "### Tokenization\n",
    "Our first step is to tokenize the sentences -- break them up into word and subwords in the format BERT is comfortable with."
   ]
  },
  {
   "cell_type": "code",
   "execution_count": 20,
   "metadata": {},
   "outputs": [],
   "source": [
    "# interested_labels = [rename_dict[i] for i in ['NON_FOOD_GOODS']] #, 'FOOD_GOODS'\n",
    "# interested_labels"
   ]
  },
  {
   "cell_type": "code",
   "execution_count": 21,
   "metadata": {},
   "outputs": [],
   "source": [
    "# new_mapping = {}\n",
    "# ind = 0\n",
    "# for i in df_grouped.index:\n",
    "#     if rename_dict[i] in interested_labels:\n",
    "#         new_mapping[rename_dict[i]] = ind\n",
    "#         ind+=1\n",
    "#     else:\n",
    "#         new_mapping[rename_dict[i]] = len(interested_labels)"
   ]
  },
  {
   "cell_type": "code",
   "execution_count": 22,
   "metadata": {},
   "outputs": [],
   "source": [
    "# new_mapping"
   ]
  },
  {
   "cell_type": "code",
   "execution_count": 23,
   "metadata": {},
   "outputs": [],
   "source": [
    "# train_data['label_new'] = train_data['label'].apply(lambda x: new_mapping[x])"
   ]
  },
  {
   "cell_type": "code",
   "execution_count": 24,
   "metadata": {},
   "outputs": [],
   "source": [
    "# train_data45 = train_data[train_data['label_new'].isin([0, 1])].copy()"
   ]
  },
  {
   "cell_type": "code",
   "execution_count": 25,
   "metadata": {},
   "outputs": [],
   "source": [
    "# texts = train_data45['cleaned_text'].values\n",
    "# target = train_data45['label_new'].values"
   ]
  },
  {
   "cell_type": "code",
   "execution_count": 26,
   "metadata": {},
   "outputs": [
    {
     "data": {
      "text/html": [
       "<div>\n",
       "<style scoped>\n",
       "    .dataframe tbody tr th:only-of-type {\n",
       "        vertical-align: middle;\n",
       "    }\n",
       "\n",
       "    .dataframe tbody tr th {\n",
       "        vertical-align: top;\n",
       "    }\n",
       "\n",
       "    .dataframe thead th {\n",
       "        text-align: right;\n",
       "    }\n",
       "</style>\n",
       "<table border=\"1\" class=\"dataframe\">\n",
       "  <thead>\n",
       "    <tr style=\"text-align: right;\">\n",
       "      <th></th>\n",
       "      <th>date</th>\n",
       "      <th>sum</th>\n",
       "      <th>text</th>\n",
       "      <th>category</th>\n",
       "      <th>label</th>\n",
       "      <th>cleaned_text</th>\n",
       "    </tr>\n",
       "    <tr>\n",
       "      <th>number</th>\n",
       "      <th></th>\n",
       "      <th></th>\n",
       "      <th></th>\n",
       "      <th></th>\n",
       "      <th></th>\n",
       "      <th></th>\n",
       "    </tr>\n",
       "  </thead>\n",
       "  <tbody>\n",
       "    <tr>\n",
       "      <th>1</th>\n",
       "      <td>07.11.2024</td>\n",
       "      <td>15300.00</td>\n",
       "      <td>За участие в конференции в г. Майкоп по догово...</td>\n",
       "      <td>SERVICE</td>\n",
       "      <td>7</td>\n",
       "      <td>участие конференция майкоп договор апрель</td>\n",
       "    </tr>\n",
       "    <tr>\n",
       "      <th>2</th>\n",
       "      <td>07.11.2024</td>\n",
       "      <td>40200,00</td>\n",
       "      <td>За оказание услуг по договору №79-02726В от 01...</td>\n",
       "      <td>SERVICE</td>\n",
       "      <td>7</td>\n",
       "      <td>оказание услуга договор</td>\n",
       "    </tr>\n",
       "    <tr>\n",
       "      <th>3</th>\n",
       "      <td>07.11.2024</td>\n",
       "      <td>1440-00</td>\n",
       "      <td>Оплата за Порошок стиральный Ariel Color autom...</td>\n",
       "      <td>NON_FOOD_GOODS</td>\n",
       "      <td>4</td>\n",
       "      <td>порошок стиральный ariel color automat счёт ав...</td>\n",
       "    </tr>\n",
       "    <tr>\n",
       "      <th>4</th>\n",
       "      <td>07.11.2024</td>\n",
       "      <td>240000000-00</td>\n",
       "      <td>Возврат денежных средств по договору займа №04...</td>\n",
       "      <td>LOAN</td>\n",
       "      <td>0</td>\n",
       "      <td>возврат денежный средство договор заём</td>\n",
       "    </tr>\n",
       "    <tr>\n",
       "      <th>5</th>\n",
       "      <td>07.11.2024</td>\n",
       "      <td>1360000.00</td>\n",
       "      <td>Оплата Дог №452 от 13/03/2021, согл. Сч 0745-2...</td>\n",
       "      <td>NOT_CLASSIFIED</td>\n",
       "      <td>3</td>\n",
       "      <td>дог соглый сброс загрязнять вещество</td>\n",
       "    </tr>\n",
       "    <tr>\n",
       "      <th>...</th>\n",
       "      <td>...</td>\n",
       "      <td>...</td>\n",
       "      <td>...</td>\n",
       "      <td>...</td>\n",
       "      <td>...</td>\n",
       "      <td>...</td>\n",
       "    </tr>\n",
       "    <tr>\n",
       "      <th>496</th>\n",
       "      <td>07.11.2024</td>\n",
       "      <td>2610.00</td>\n",
       "      <td>Оплата налогов</td>\n",
       "      <td>TAX</td>\n",
       "      <td>8</td>\n",
       "      <td>налог</td>\n",
       "    </tr>\n",
       "    <tr>\n",
       "      <th>497</th>\n",
       "      <td>07.11.2024</td>\n",
       "      <td>31200-00</td>\n",
       "      <td>Комиссия за выполнение функций агента валютног...</td>\n",
       "      <td>BANK_SERVICE</td>\n",
       "      <td>6</td>\n",
       "      <td>комиссия выполнение функция агент валютный кон...</td>\n",
       "    </tr>\n",
       "    <tr>\n",
       "      <th>498</th>\n",
       "      <td>07.11.2024</td>\n",
       "      <td>18200-00</td>\n",
       "      <td>За тур.поездку по договору №75-04243Г от 24/04...</td>\n",
       "      <td>SERVICE</td>\n",
       "      <td>7</td>\n",
       "      <td>тур поездка договор</td>\n",
       "    </tr>\n",
       "    <tr>\n",
       "      <th>499</th>\n",
       "      <td>07.11.2024</td>\n",
       "      <td>2870000,00</td>\n",
       "      <td>Оплата по договору №095 от 24.02.2025г, счету ...</td>\n",
       "      <td>FOOD_GOODS</td>\n",
       "      <td>5</td>\n",
       "      <td>договор счёт дымовский колбаса</td>\n",
       "    </tr>\n",
       "    <tr>\n",
       "      <th>500</th>\n",
       "      <td>07.11.2024</td>\n",
       "      <td>2210-00</td>\n",
       "      <td>Оплата коммунальных услуг</td>\n",
       "      <td>SERVICE</td>\n",
       "      <td>7</td>\n",
       "      <td>коммунальный услуга</td>\n",
       "    </tr>\n",
       "  </tbody>\n",
       "</table>\n",
       "<p>500 rows × 6 columns</p>\n",
       "</div>"
      ],
      "text/plain": [
       "              date           sum  \\\n",
       "number                             \n",
       "1       07.11.2024      15300.00   \n",
       "2       07.11.2024      40200,00   \n",
       "3       07.11.2024       1440-00   \n",
       "4       07.11.2024  240000000-00   \n",
       "5       07.11.2024    1360000.00   \n",
       "...            ...           ...   \n",
       "496     07.11.2024       2610.00   \n",
       "497     07.11.2024      31200-00   \n",
       "498     07.11.2024      18200-00   \n",
       "499     07.11.2024    2870000,00   \n",
       "500     07.11.2024       2210-00   \n",
       "\n",
       "                                                     text        category  \\\n",
       "number                                                                      \n",
       "1       За участие в конференции в г. Майкоп по догово...         SERVICE   \n",
       "2       За оказание услуг по договору №79-02726В от 01...         SERVICE   \n",
       "3       Оплата за Порошок стиральный Ariel Color autom...  NON_FOOD_GOODS   \n",
       "4       Возврат денежных средств по договору займа №04...            LOAN   \n",
       "5       Оплата Дог №452 от 13/03/2021, согл. Сч 0745-2...  NOT_CLASSIFIED   \n",
       "...                                                   ...             ...   \n",
       "496                                        Оплата налогов             TAX   \n",
       "497     Комиссия за выполнение функций агента валютног...    BANK_SERVICE   \n",
       "498     За тур.поездку по договору №75-04243Г от 24/04...         SERVICE   \n",
       "499     Оплата по договору №095 от 24.02.2025г, счету ...      FOOD_GOODS   \n",
       "500                             Оплата коммунальных услуг         SERVICE   \n",
       "\n",
       "        label                                       cleaned_text  \n",
       "number                                                            \n",
       "1           7          участие конференция майкоп договор апрель  \n",
       "2           7                            оказание услуга договор  \n",
       "3           4  порошок стиральный ariel color automat счёт ав...  \n",
       "4           0             возврат денежный средство договор заём  \n",
       "5           3               дог соглый сброс загрязнять вещество  \n",
       "...       ...                                                ...  \n",
       "496         8                                              налог  \n",
       "497         6  комиссия выполнение функция агент валютный кон...  \n",
       "498         7                                тур поездка договор  \n",
       "499         5                     договор счёт дымовский колбаса  \n",
       "500         7                                коммунальный услуга  \n",
       "\n",
       "[500 rows x 6 columns]"
      ]
     },
     "execution_count": 26,
     "metadata": {},
     "output_type": "execute_result"
    }
   ],
   "source": [
    "test_data"
   ]
  },
  {
   "cell_type": "code",
   "execution_count": 27,
   "metadata": {},
   "outputs": [],
   "source": [
    "texts_train, target = train_data['cleaned_text'].values, train_data['category'].values\n",
    "texts_test, target_test = test_data['cleaned_text'].values, test_data['label'].values"
   ]
  },
  {
   "cell_type": "code",
   "execution_count": 28,
   "metadata": {},
   "outputs": [],
   "source": [
    "# texts_train, texts_test, y_train, y_test = train_test_split(texts,target,test_size=0.3,random_state=52, stratify=target)"
   ]
  },
  {
   "cell_type": "code",
   "execution_count": 29,
   "metadata": {},
   "outputs": [],
   "source": [
    "texts_train_tokenized = [tokenizer.encode(x, max_length=512, truncation=True, add_special_tokens=True) for x in texts_train]"
   ]
  },
  {
   "cell_type": "code",
   "execution_count": 30,
   "metadata": {},
   "outputs": [],
   "source": [
    "texts_test_tokenized = [tokenizer.encode(x, max_length=512, truncation=True, add_special_tokens=True) for x in texts_test]"
   ]
  },
  {
   "cell_type": "code",
   "execution_count": 31,
   "metadata": {},
   "outputs": [],
   "source": [
    "def pad_texts(texts_tokenized):\n",
    "    max_len = 0\n",
    "    for i in texts_tokenized:\n",
    "        if len(i) > max_len:\n",
    "            max_len = len(i)\n",
    "\n",
    "    padded = np.array([i + [0]*(max_len-len(i)) for i in texts_tokenized])\n",
    "    return padded"
   ]
  },
  {
   "cell_type": "code",
   "execution_count": 32,
   "metadata": {},
   "outputs": [],
   "source": [
    "padded_train = pad_texts(texts_train_tokenized)\n",
    "padded_test = pad_texts(texts_test_tokenized)"
   ]
  },
  {
   "cell_type": "code",
   "execution_count": 33,
   "metadata": {},
   "outputs": [],
   "source": [
    "def attention_mask(padded_text):\n",
    "    return np.where(padded_text != 0, 1, 0)"
   ]
  },
  {
   "cell_type": "code",
   "execution_count": 34,
   "metadata": {},
   "outputs": [
    {
     "data": {
      "text/plain": [
       "(19252, 31)"
      ]
     },
     "execution_count": 34,
     "metadata": {},
     "output_type": "execute_result"
    }
   ],
   "source": [
    "attention_mask_train = attention_mask(padded_train)\n",
    "attention_mask_train.shape"
   ]
  },
  {
   "cell_type": "code",
   "execution_count": 35,
   "metadata": {},
   "outputs": [
    {
     "data": {
      "text/plain": [
       "(500, 29)"
      ]
     },
     "execution_count": 35,
     "metadata": {},
     "output_type": "execute_result"
    }
   ],
   "source": [
    "attention_mask_test = attention_mask(padded_test)\n",
    "attention_mask_test.shape"
   ]
  },
  {
   "cell_type": "markdown",
   "metadata": {},
   "source": [
    "Now move the model to GPU and check if it is in `eval` mode."
   ]
  },
  {
   "cell_type": "code",
   "execution_count": 36,
   "metadata": {},
   "outputs": [],
   "source": [
    "device = torch.device('cuda:0') if torch.cuda.is_available() else torch.device('cpu')"
   ]
  },
  {
   "cell_type": "code",
   "execution_count": 37,
   "metadata": {},
   "outputs": [],
   "source": [
    "model = model_class.from_pretrained(pretrained_weights)"
   ]
  },
  {
   "cell_type": "markdown",
   "metadata": {},
   "source": [
    "Finally, process all the data with the BERT model:"
   ]
  },
  {
   "cell_type": "code",
   "execution_count": 38,
   "metadata": {},
   "outputs": [
    {
     "data": {
      "text/plain": [
       "BertModel(\n",
       "  (embeddings): BertEmbeddings(\n",
       "    (word_embeddings): Embedding(55083, 768, padding_idx=0)\n",
       "    (position_embeddings): Embedding(512, 768)\n",
       "    (token_type_embeddings): Embedding(2, 768)\n",
       "    (LayerNorm): LayerNorm((768,), eps=1e-12, elementwise_affine=True)\n",
       "    (dropout): Dropout(p=0.1, inplace=False)\n",
       "  )\n",
       "  (encoder): BertEncoder(\n",
       "    (layer): ModuleList(\n",
       "      (0-11): 12 x BertLayer(\n",
       "        (attention): BertAttention(\n",
       "          (self): BertSdpaSelfAttention(\n",
       "            (query): Linear(in_features=768, out_features=768, bias=True)\n",
       "            (key): Linear(in_features=768, out_features=768, bias=True)\n",
       "            (value): Linear(in_features=768, out_features=768, bias=True)\n",
       "            (dropout): Dropout(p=0.1, inplace=False)\n",
       "          )\n",
       "          (output): BertSelfOutput(\n",
       "            (dense): Linear(in_features=768, out_features=768, bias=True)\n",
       "            (LayerNorm): LayerNorm((768,), eps=1e-12, elementwise_affine=True)\n",
       "            (dropout): Dropout(p=0.1, inplace=False)\n",
       "          )\n",
       "        )\n",
       "        (intermediate): BertIntermediate(\n",
       "          (dense): Linear(in_features=768, out_features=3072, bias=True)\n",
       "          (intermediate_act_fn): GELUActivation()\n",
       "        )\n",
       "        (output): BertOutput(\n",
       "          (dense): Linear(in_features=3072, out_features=768, bias=True)\n",
       "          (LayerNorm): LayerNorm((768,), eps=1e-12, elementwise_affine=True)\n",
       "          (dropout): Dropout(p=0.1, inplace=False)\n",
       "        )\n",
       "      )\n",
       "    )\n",
       "  )\n",
       "  (pooler): BertPooler(\n",
       "    (dense): Linear(in_features=768, out_features=768, bias=True)\n",
       "    (activation): Tanh()\n",
       "  )\n",
       ")"
      ]
     },
     "execution_count": 38,
     "metadata": {},
     "output_type": "execute_result"
    }
   ],
   "source": [
    "model.eval()\n",
    "model.to(device)"
   ]
  },
  {
   "cell_type": "markdown",
   "metadata": {},
   "source": [
    "Cast the result to the numpy (e.g.) array:"
   ]
  },
  {
   "cell_type": "code",
   "execution_count": 39,
   "metadata": {},
   "outputs": [],
   "source": [
    "import tqdm\n",
    "torch.cuda.empty_cache()"
   ]
  },
  {
   "cell_type": "code",
   "execution_count": 40,
   "metadata": {},
   "outputs": [
    {
     "data": {
      "application/vnd.jupyter.widget-view+json": {
       "model_id": "3cfd7de89f8943bfa66cacc402a67871",
       "version_major": 2,
       "version_minor": 0
      },
      "text/plain": [
       "  0%|          | 0/1204 [00:00<?, ?it/s]"
      ]
     },
     "metadata": {},
     "output_type": "display_data"
    }
   ],
   "source": [
    "output = []\n",
    "batch_size = 16\n",
    "for inx in tqdm.notebook.trange(0, attention_mask_train.shape[0], batch_size):\n",
    "    batch = torch.tensor(padded_train[inx:inx+batch_size]).to(device)\n",
    "    local_attention_mask = torch.tensor(attention_mask_train[inx:inx+batch_size]).to(device)\n",
    "\n",
    "    with torch.no_grad():\n",
    "        last_hidden_states = model(batch, attention_mask=local_attention_mask)[0][:, 0, :].cpu().numpy()\n",
    "        output.append(last_hidden_states)"
   ]
  },
  {
   "cell_type": "code",
   "execution_count": 41,
   "metadata": {},
   "outputs": [
    {
     "data": {
      "application/vnd.jupyter.widget-view+json": {
       "model_id": "45f7d589d0fc4541b776ab3fef1fa7f0",
       "version_major": 2,
       "version_minor": 0
      },
      "text/plain": [
       "  0%|          | 0/32 [00:00<?, ?it/s]"
      ]
     },
     "metadata": {},
     "output_type": "display_data"
    }
   ],
   "source": [
    "output_test = []\n",
    "batch_size = 16\n",
    "for inx in tqdm.notebook.trange(0, attention_mask_test.shape[0], batch_size):\n",
    "    batch = torch.tensor(padded_test[inx:inx+batch_size]).to(device)\n",
    "    local_attention_mask = torch.tensor(attention_mask_test[inx:inx+batch_size]).to(device)\n",
    "\n",
    "    with torch.no_grad():\n",
    "        last_hidden_states = model(batch, attention_mask=local_attention_mask)[0][:, 0, :].cpu().numpy()\n",
    "        output_test.append(last_hidden_states)"
   ]
  },
  {
   "cell_type": "code",
   "execution_count": 42,
   "metadata": {},
   "outputs": [],
   "source": [
    "train_features = np.vstack(output)"
   ]
  },
  {
   "cell_type": "code",
   "execution_count": 43,
   "metadata": {},
   "outputs": [],
   "source": [
    "test_features = np.vstack(output_test)"
   ]
  },
  {
   "cell_type": "code",
   "execution_count": 44,
   "metadata": {},
   "outputs": [
    {
     "data": {
      "text/html": [
       "<style>#sk-container-id-1 {color: black;}#sk-container-id-1 pre{padding: 0;}#sk-container-id-1 div.sk-toggleable {background-color: white;}#sk-container-id-1 label.sk-toggleable__label {cursor: pointer;display: block;width: 100%;margin-bottom: 0;padding: 0.3em;box-sizing: border-box;text-align: center;}#sk-container-id-1 label.sk-toggleable__label-arrow:before {content: \"▸\";float: left;margin-right: 0.25em;color: #696969;}#sk-container-id-1 label.sk-toggleable__label-arrow:hover:before {color: black;}#sk-container-id-1 div.sk-estimator:hover label.sk-toggleable__label-arrow:before {color: black;}#sk-container-id-1 div.sk-toggleable__content {max-height: 0;max-width: 0;overflow: hidden;text-align: left;background-color: #f0f8ff;}#sk-container-id-1 div.sk-toggleable__content pre {margin: 0.2em;color: black;border-radius: 0.25em;background-color: #f0f8ff;}#sk-container-id-1 input.sk-toggleable__control:checked~div.sk-toggleable__content {max-height: 200px;max-width: 100%;overflow: auto;}#sk-container-id-1 input.sk-toggleable__control:checked~label.sk-toggleable__label-arrow:before {content: \"▾\";}#sk-container-id-1 div.sk-estimator input.sk-toggleable__control:checked~label.sk-toggleable__label {background-color: #d4ebff;}#sk-container-id-1 div.sk-label input.sk-toggleable__control:checked~label.sk-toggleable__label {background-color: #d4ebff;}#sk-container-id-1 input.sk-hidden--visually {border: 0;clip: rect(1px 1px 1px 1px);clip: rect(1px, 1px, 1px, 1px);height: 1px;margin: -1px;overflow: hidden;padding: 0;position: absolute;width: 1px;}#sk-container-id-1 div.sk-estimator {font-family: monospace;background-color: #f0f8ff;border: 1px dotted black;border-radius: 0.25em;box-sizing: border-box;margin-bottom: 0.5em;}#sk-container-id-1 div.sk-estimator:hover {background-color: #d4ebff;}#sk-container-id-1 div.sk-parallel-item::after {content: \"\";width: 100%;border-bottom: 1px solid gray;flex-grow: 1;}#sk-container-id-1 div.sk-label:hover label.sk-toggleable__label {background-color: #d4ebff;}#sk-container-id-1 div.sk-serial::before {content: \"\";position: absolute;border-left: 1px solid gray;box-sizing: border-box;top: 0;bottom: 0;left: 50%;z-index: 0;}#sk-container-id-1 div.sk-serial {display: flex;flex-direction: column;align-items: center;background-color: white;padding-right: 0.2em;padding-left: 0.2em;position: relative;}#sk-container-id-1 div.sk-item {position: relative;z-index: 1;}#sk-container-id-1 div.sk-parallel {display: flex;align-items: stretch;justify-content: center;background-color: white;position: relative;}#sk-container-id-1 div.sk-item::before, #sk-container-id-1 div.sk-parallel-item::before {content: \"\";position: absolute;border-left: 1px solid gray;box-sizing: border-box;top: 0;bottom: 0;left: 50%;z-index: -1;}#sk-container-id-1 div.sk-parallel-item {display: flex;flex-direction: column;z-index: 1;position: relative;background-color: white;}#sk-container-id-1 div.sk-parallel-item:first-child::after {align-self: flex-end;width: 50%;}#sk-container-id-1 div.sk-parallel-item:last-child::after {align-self: flex-start;width: 50%;}#sk-container-id-1 div.sk-parallel-item:only-child::after {width: 0;}#sk-container-id-1 div.sk-dashed-wrapped {border: 1px dashed gray;margin: 0 0.4em 0.5em 0.4em;box-sizing: border-box;padding-bottom: 0.4em;background-color: white;}#sk-container-id-1 div.sk-label label {font-family: monospace;font-weight: bold;display: inline-block;line-height: 1.2em;}#sk-container-id-1 div.sk-label-container {text-align: center;}#sk-container-id-1 div.sk-container {/* jupyter's `normalize.less` sets `[hidden] { display: none; }` but bootstrap.min.css set `[hidden] { display: none !important; }` so we also need the `!important` here to be able to override the default hidden behavior on the sphinx rendered scikit-learn.org. See: https://github.com/scikit-learn/scikit-learn/issues/21755 */display: inline-block !important;position: relative;}#sk-container-id-1 div.sk-text-repr-fallback {display: none;}</style><div id=\"sk-container-id-1\" class=\"sk-top-container\"><div class=\"sk-text-repr-fallback\"><pre>LogisticRegression(C=2.5642, max_iter=1000)</pre><b>In a Jupyter environment, please rerun this cell to show the HTML representation or trust the notebook. <br />On GitHub, the HTML representation is unable to render, please try loading this page with nbviewer.org.</b></div><div class=\"sk-container\" hidden><div class=\"sk-item\"><div class=\"sk-estimator sk-toggleable\"><input class=\"sk-toggleable__control sk-hidden--visually\" id=\"sk-estimator-id-1\" type=\"checkbox\" checked><label for=\"sk-estimator-id-1\" class=\"sk-toggleable__label sk-toggleable__label-arrow\">LogisticRegression</label><div class=\"sk-toggleable__content\"><pre>LogisticRegression(C=2.5642, max_iter=1000)</pre></div></div></div></div></div>"
      ],
      "text/plain": [
       "LogisticRegression(C=2.5642, max_iter=1000)"
      ]
     },
     "execution_count": 44,
     "metadata": {},
     "output_type": "execute_result"
    }
   ],
   "source": [
    "lr_clf = LogisticRegression(solver='lbfgs', max_iter=1000, C=2.5642)\n",
    "lr_clf.fit(train_features, target)"
   ]
  },
  {
   "cell_type": "code",
   "execution_count": 58,
   "metadata": {},
   "outputs": [],
   "source": [
    "import pickle"
   ]
  },
  {
   "cell_type": "code",
   "execution_count": 72,
   "metadata": {},
   "outputs": [],
   "source": [
    "filename = '/home/yagor/Рабочий стол/BIV/biv_hack/models/linear_model1.sav'\n",
    "# pickle.dump(lr_clf, open(filename, 'wb')) \n",
    "  \n",
    "# load the model \n",
    "load_model = pickle.load(open(filename, 'rb')) "
   ]
  },
  {
   "cell_type": "code",
   "execution_count": 64,
   "metadata": {},
   "outputs": [
    {
     "data": {
      "text/html": [
       "<style>#sk-container-id-3 {color: black;}#sk-container-id-3 pre{padding: 0;}#sk-container-id-3 div.sk-toggleable {background-color: white;}#sk-container-id-3 label.sk-toggleable__label {cursor: pointer;display: block;width: 100%;margin-bottom: 0;padding: 0.3em;box-sizing: border-box;text-align: center;}#sk-container-id-3 label.sk-toggleable__label-arrow:before {content: \"▸\";float: left;margin-right: 0.25em;color: #696969;}#sk-container-id-3 label.sk-toggleable__label-arrow:hover:before {color: black;}#sk-container-id-3 div.sk-estimator:hover label.sk-toggleable__label-arrow:before {color: black;}#sk-container-id-3 div.sk-toggleable__content {max-height: 0;max-width: 0;overflow: hidden;text-align: left;background-color: #f0f8ff;}#sk-container-id-3 div.sk-toggleable__content pre {margin: 0.2em;color: black;border-radius: 0.25em;background-color: #f0f8ff;}#sk-container-id-3 input.sk-toggleable__control:checked~div.sk-toggleable__content {max-height: 200px;max-width: 100%;overflow: auto;}#sk-container-id-3 input.sk-toggleable__control:checked~label.sk-toggleable__label-arrow:before {content: \"▾\";}#sk-container-id-3 div.sk-estimator input.sk-toggleable__control:checked~label.sk-toggleable__label {background-color: #d4ebff;}#sk-container-id-3 div.sk-label input.sk-toggleable__control:checked~label.sk-toggleable__label {background-color: #d4ebff;}#sk-container-id-3 input.sk-hidden--visually {border: 0;clip: rect(1px 1px 1px 1px);clip: rect(1px, 1px, 1px, 1px);height: 1px;margin: -1px;overflow: hidden;padding: 0;position: absolute;width: 1px;}#sk-container-id-3 div.sk-estimator {font-family: monospace;background-color: #f0f8ff;border: 1px dotted black;border-radius: 0.25em;box-sizing: border-box;margin-bottom: 0.5em;}#sk-container-id-3 div.sk-estimator:hover {background-color: #d4ebff;}#sk-container-id-3 div.sk-parallel-item::after {content: \"\";width: 100%;border-bottom: 1px solid gray;flex-grow: 1;}#sk-container-id-3 div.sk-label:hover label.sk-toggleable__label {background-color: #d4ebff;}#sk-container-id-3 div.sk-serial::before {content: \"\";position: absolute;border-left: 1px solid gray;box-sizing: border-box;top: 0;bottom: 0;left: 50%;z-index: 0;}#sk-container-id-3 div.sk-serial {display: flex;flex-direction: column;align-items: center;background-color: white;padding-right: 0.2em;padding-left: 0.2em;position: relative;}#sk-container-id-3 div.sk-item {position: relative;z-index: 1;}#sk-container-id-3 div.sk-parallel {display: flex;align-items: stretch;justify-content: center;background-color: white;position: relative;}#sk-container-id-3 div.sk-item::before, #sk-container-id-3 div.sk-parallel-item::before {content: \"\";position: absolute;border-left: 1px solid gray;box-sizing: border-box;top: 0;bottom: 0;left: 50%;z-index: -1;}#sk-container-id-3 div.sk-parallel-item {display: flex;flex-direction: column;z-index: 1;position: relative;background-color: white;}#sk-container-id-3 div.sk-parallel-item:first-child::after {align-self: flex-end;width: 50%;}#sk-container-id-3 div.sk-parallel-item:last-child::after {align-self: flex-start;width: 50%;}#sk-container-id-3 div.sk-parallel-item:only-child::after {width: 0;}#sk-container-id-3 div.sk-dashed-wrapped {border: 1px dashed gray;margin: 0 0.4em 0.5em 0.4em;box-sizing: border-box;padding-bottom: 0.4em;background-color: white;}#sk-container-id-3 div.sk-label label {font-family: monospace;font-weight: bold;display: inline-block;line-height: 1.2em;}#sk-container-id-3 div.sk-label-container {text-align: center;}#sk-container-id-3 div.sk-container {/* jupyter's `normalize.less` sets `[hidden] { display: none; }` but bootstrap.min.css set `[hidden] { display: none !important; }` so we also need the `!important` here to be able to override the default hidden behavior on the sphinx rendered scikit-learn.org. See: https://github.com/scikit-learn/scikit-learn/issues/21755 */display: inline-block !important;position: relative;}#sk-container-id-3 div.sk-text-repr-fallback {display: none;}</style><div id=\"sk-container-id-3\" class=\"sk-top-container\"><div class=\"sk-text-repr-fallback\"><pre>LogisticRegression(C=2.5642, max_iter=1000)</pre><b>In a Jupyter environment, please rerun this cell to show the HTML representation or trust the notebook. <br />On GitHub, the HTML representation is unable to render, please try loading this page with nbviewer.org.</b></div><div class=\"sk-container\" hidden><div class=\"sk-item\"><div class=\"sk-estimator sk-toggleable\"><input class=\"sk-toggleable__control sk-hidden--visually\" id=\"sk-estimator-id-3\" type=\"checkbox\" checked><label for=\"sk-estimator-id-3\" class=\"sk-toggleable__label sk-toggleable__label-arrow\">LogisticRegression</label><div class=\"sk-toggleable__content\"><pre>LogisticRegression(C=2.5642, max_iter=1000)</pre></div></div></div></div></div>"
      ],
      "text/plain": [
       "LogisticRegression(C=2.5642, max_iter=1000)"
      ]
     },
     "execution_count": 64,
     "metadata": {},
     "output_type": "execute_result"
    }
   ],
   "source": [
    "load_model"
   ]
  },
  {
   "cell_type": "code",
   "execution_count": null,
   "metadata": {},
   "outputs": [],
   "source": [
    "lr_clf = LogisticRegression(solver='lbfgs', max_iter=1000, C=2.5642)\n",
    "lr_clf.fit(train_features, target)"
   ]
  },
  {
   "cell_type": "code",
   "execution_count": 48,
   "metadata": {},
   "outputs": [
    {
     "data": {
      "text/plain": [
       "(19252, 768)"
      ]
     },
     "execution_count": 48,
     "metadata": {},
     "output_type": "execute_result"
    }
   ],
   "source": [
    "train_features.shape"
   ]
  },
  {
   "cell_type": "code",
   "execution_count": 62,
   "metadata": {},
   "outputs": [
    {
     "data": {
      "text/plain": [
       "(500, 768)"
      ]
     },
     "execution_count": 62,
     "metadata": {},
     "output_type": "execute_result"
    }
   ],
   "source": [
    "test_features.shape"
   ]
  },
  {
   "cell_type": "code",
   "execution_count": null,
   "metadata": {},
   "outputs": [],
   "source": [
    "y_pred = load_model.predict(test_features)"
   ]
  },
  {
   "cell_type": "code",
   "execution_count": 69,
   "metadata": {},
   "outputs": [
    {
     "data": {
      "text/plain": [
       "array([7, 7, 4, 0, 3, 2, 4, 4, 5, 0, 0, 6, 7, 7, 0, 7, 5, 4, 8, 4, 2, 8,\n",
       "       5, 7, 5, 2, 2, 5, 4, 5, 4, 7, 5, 7, 4, 6, 5, 5, 6, 2, 4, 8, 7, 5,\n",
       "       4, 4, 6, 4, 2, 4, 7, 5, 5, 4, 5, 4, 5, 8, 4, 4, 5, 3, 7, 0, 5, 4,\n",
       "       5, 8, 0, 6, 5, 7, 5, 4, 7, 5, 3, 8, 7, 1, 4, 6, 2, 5, 7, 7, 1, 3,\n",
       "       8, 5, 4, 2, 7, 4, 7, 4, 0, 7, 4, 5, 1, 2, 7, 5, 4, 4, 7, 8, 2, 8,\n",
       "       7, 7, 5, 4, 6, 6, 4, 4, 2, 8, 3, 7, 3, 5, 0, 6, 5, 5, 8, 8, 6, 5,\n",
       "       0, 4, 3, 5, 7, 6, 6, 6, 0, 5, 6, 5, 0, 0, 5, 4, 4, 7, 5, 7, 6, 2,\n",
       "       1, 3, 5, 5, 6, 4, 4, 4, 7, 2, 5, 7, 2, 0, 7, 8, 5, 4, 7, 3, 7, 4,\n",
       "       4, 2, 0, 7, 8, 8, 2, 8, 6, 4, 7, 6, 2, 4, 0, 0, 6, 7, 4, 0, 1, 6,\n",
       "       4, 2, 1, 7, 7, 4, 2, 5, 5, 5, 4, 7, 6, 4, 2, 5, 5, 2, 7, 1, 7, 1,\n",
       "       5, 5, 4, 6, 0, 3, 6, 4, 5, 2, 2, 1, 5, 4, 4, 0, 6, 5, 7, 4, 7, 4,\n",
       "       0, 7, 4, 0, 1, 8, 8, 6, 0, 3, 7, 6, 3, 8, 5, 7, 5, 4, 7, 7, 8, 4,\n",
       "       4, 2, 0, 1, 8, 4, 4, 4, 7, 4, 4, 5, 5, 4, 7, 3, 4, 1, 8, 3, 4, 1,\n",
       "       3, 5, 7, 1, 4, 4, 6, 4, 3, 4, 4, 3, 0, 6, 7, 2, 0, 1, 5, 1, 1, 8,\n",
       "       5, 6, 7, 7, 0, 6, 7, 5, 2, 1, 5, 7, 7, 4, 4, 2, 5, 6, 3, 5, 0, 7,\n",
       "       8, 5, 4, 6, 0, 7, 4, 0, 2, 3, 6, 8, 4, 8, 1, 2, 6, 4, 4, 8, 1, 7,\n",
       "       0, 0, 2, 4, 8, 5, 4, 8, 4, 0, 7, 4, 3, 4, 1, 5, 6, 5, 6, 0, 5, 2,\n",
       "       8, 5, 7, 6, 3, 1, 5, 5, 4, 5, 6, 5, 1, 5, 8, 5, 7, 5, 8, 7, 7, 8,\n",
       "       7, 5, 5, 4, 7, 8, 7, 4, 2, 8, 6, 5, 5, 8, 5, 7, 5, 7, 0, 8, 4, 1,\n",
       "       8, 0, 8, 0, 6, 8, 0, 2, 4, 7, 3, 1, 2, 6, 7, 5, 4, 4, 4, 7, 6, 7,\n",
       "       6, 4, 5, 8, 8, 6, 2, 7, 5, 7, 3, 6, 5, 5, 8, 4, 5, 8, 7, 2, 8, 8,\n",
       "       2, 7, 1, 7, 6, 4, 4, 4, 7, 7, 0, 4, 7, 5, 0, 7, 0, 7, 4, 0, 6, 5,\n",
       "       4, 6, 5, 8, 7, 1, 2, 5, 5, 7, 7, 8, 6, 7, 5, 7])"
      ]
     },
     "execution_count": 69,
     "metadata": {},
     "output_type": "execute_result"
    }
   ],
   "source": [
    "y_pred"
   ]
  },
  {
   "cell_type": "code",
   "execution_count": 67,
   "metadata": {},
   "outputs": [
    {
     "name": "stdout",
     "output_type": "stream",
     "text": [
      "Classification Report:\n",
      "              precision    recall  f1-score   support\n",
      "\n",
      "           0       1.00      1.00      1.00        41\n",
      "           1       1.00      1.00      1.00        27\n",
      "           2       1.00      1.00      1.00        38\n",
      "           3       1.00      1.00      1.00        23\n",
      "           4       1.00      1.00      1.00        96\n",
      "           5       1.00      1.00      1.00        90\n",
      "           6       1.00      1.00      1.00        49\n",
      "           7       1.00      1.00      1.00        88\n",
      "           8       1.00      1.00      1.00        48\n",
      "\n",
      "    accuracy                           1.00       500\n",
      "   macro avg       1.00      1.00      1.00       500\n",
      "weighted avg       1.00      1.00      1.00       500\n",
      "\n"
     ]
    }
   ],
   "source": [
    "# Step 5: Evaluate the Model\n",
    "print(\"Classification Report:\")\n",
    "print(classification_report(target_test, y_pred))"
   ]
  },
  {
   "cell_type": "code",
   "execution_count": 64,
   "metadata": {},
   "outputs": [
    {
     "name": "stdout",
     "output_type": "stream",
     "text": [
      "Classification Report:\n",
      "              precision    recall  f1-score   support\n",
      "\n",
      "           0       1.00      1.00      1.00        41\n",
      "           1       1.00      1.00      1.00        27\n",
      "           2       1.00      1.00      1.00        38\n",
      "           3       1.00      1.00      1.00        23\n",
      "           4       1.00      1.00      1.00        96\n",
      "           5       1.00      1.00      1.00        90\n",
      "           6       1.00      1.00      1.00        49\n",
      "           7       1.00      1.00      1.00        88\n",
      "           8       1.00      1.00      1.00        48\n",
      "\n",
      "    accuracy                           1.00       500\n",
      "   macro avg       1.00      1.00      1.00       500\n",
      "weighted avg       1.00      1.00      1.00       500\n",
      "\n"
     ]
    }
   ],
   "source": [
    "# Step 4: Make Predictions on the Test Set\n",
    "y_pred = lr_clf.predict(test_features)\n",
    "\n",
    "# Step 5: Evaluate the Model\n",
    "print(\"Classification Report:\")\n",
    "print(classification_report(target_test, y_pred))"
   ]
  },
  {
   "cell_type": "code",
   "execution_count": 77,
   "metadata": {},
   "outputs": [],
   "source": [
    "id2label = {'LOAN': 0,\n",
    " 'REALE_STATE': 1,\n",
    " 'LEASING': 2,\n",
    " 'NOT_CLASSIFIED': 3,\n",
    " 'NON_FOOD_GOODS': 4,\n",
    " 'FOOD_GOODS': 5,\n",
    " 'BANK_SERVICE': 6,\n",
    " 'SERVICE': 7,\n",
    " 'TAX': 8}\n",
    "label2id = {v:k for k, v in id2label.items()}"
   ]
  },
  {
   "cell_type": "code",
   "execution_count": 78,
   "metadata": {},
   "outputs": [
    {
     "data": {
      "text/plain": [
       "{0: 'LOAN',\n",
       " 1: 'REALE_STATE',\n",
       " 2: 'LEASING',\n",
       " 3: 'NOT_CLASSIFIED',\n",
       " 4: 'NON_FOOD_GOODS',\n",
       " 5: 'FOOD_GOODS',\n",
       " 6: 'BANK_SERVICE',\n",
       " 7: 'SERVICE',\n",
       " 8: 'TAX'}"
      ]
     },
     "execution_count": 78,
     "metadata": {},
     "output_type": "execute_result"
    }
   ],
   "source": [
    "label2id"
   ]
  },
  {
   "cell_type": "code",
   "execution_count": 79,
   "metadata": {},
   "outputs": [],
   "source": [
    "df = pd.DataFrame({'labels': y_pred}, index=test_data.index.values)"
   ]
  },
  {
   "cell_type": "code",
   "execution_count": 82,
   "metadata": {},
   "outputs": [
    {
     "data": {
      "text/html": [
       "<div>\n",
       "<style scoped>\n",
       "    .dataframe tbody tr th:only-of-type {\n",
       "        vertical-align: middle;\n",
       "    }\n",
       "\n",
       "    .dataframe tbody tr th {\n",
       "        vertical-align: top;\n",
       "    }\n",
       "\n",
       "    .dataframe thead th {\n",
       "        text-align: right;\n",
       "    }\n",
       "</style>\n",
       "<table border=\"1\" class=\"dataframe\">\n",
       "  <thead>\n",
       "    <tr style=\"text-align: right;\">\n",
       "      <th></th>\n",
       "      <th>labels</th>\n",
       "    </tr>\n",
       "  </thead>\n",
       "  <tbody>\n",
       "    <tr>\n",
       "      <th>1</th>\n",
       "      <td>7</td>\n",
       "    </tr>\n",
       "    <tr>\n",
       "      <th>2</th>\n",
       "      <td>7</td>\n",
       "    </tr>\n",
       "    <tr>\n",
       "      <th>3</th>\n",
       "      <td>4</td>\n",
       "    </tr>\n",
       "    <tr>\n",
       "      <th>4</th>\n",
       "      <td>0</td>\n",
       "    </tr>\n",
       "    <tr>\n",
       "      <th>5</th>\n",
       "      <td>3</td>\n",
       "    </tr>\n",
       "    <tr>\n",
       "      <th>...</th>\n",
       "      <td>...</td>\n",
       "    </tr>\n",
       "    <tr>\n",
       "      <th>496</th>\n",
       "      <td>8</td>\n",
       "    </tr>\n",
       "    <tr>\n",
       "      <th>497</th>\n",
       "      <td>6</td>\n",
       "    </tr>\n",
       "    <tr>\n",
       "      <th>498</th>\n",
       "      <td>7</td>\n",
       "    </tr>\n",
       "    <tr>\n",
       "      <th>499</th>\n",
       "      <td>5</td>\n",
       "    </tr>\n",
       "    <tr>\n",
       "      <th>500</th>\n",
       "      <td>7</td>\n",
       "    </tr>\n",
       "  </tbody>\n",
       "</table>\n",
       "<p>500 rows × 1 columns</p>\n",
       "</div>"
      ],
      "text/plain": [
       "     labels\n",
       "1         7\n",
       "2         7\n",
       "3         4\n",
       "4         0\n",
       "5         3\n",
       "..      ...\n",
       "496       8\n",
       "497       6\n",
       "498       7\n",
       "499       5\n",
       "500       7\n",
       "\n",
       "[500 rows x 1 columns]"
      ]
     },
     "execution_count": 82,
     "metadata": {},
     "output_type": "execute_result"
    }
   ],
   "source": [
    "df"
   ]
  },
  {
   "cell_type": "code",
   "execution_count": 83,
   "metadata": {},
   "outputs": [],
   "source": [
    "df['labels'] = df['labels'].apply(lambda x: label2id[x])"
   ]
  },
  {
   "cell_type": "code",
   "execution_count": 84,
   "metadata": {},
   "outputs": [
    {
     "data": {
      "text/html": [
       "<div>\n",
       "<style scoped>\n",
       "    .dataframe tbody tr th:only-of-type {\n",
       "        vertical-align: middle;\n",
       "    }\n",
       "\n",
       "    .dataframe tbody tr th {\n",
       "        vertical-align: top;\n",
       "    }\n",
       "\n",
       "    .dataframe thead th {\n",
       "        text-align: right;\n",
       "    }\n",
       "</style>\n",
       "<table border=\"1\" class=\"dataframe\">\n",
       "  <thead>\n",
       "    <tr style=\"text-align: right;\">\n",
       "      <th></th>\n",
       "      <th>labels</th>\n",
       "    </tr>\n",
       "  </thead>\n",
       "  <tbody>\n",
       "    <tr>\n",
       "      <th>1</th>\n",
       "      <td>SERVICE</td>\n",
       "    </tr>\n",
       "    <tr>\n",
       "      <th>2</th>\n",
       "      <td>SERVICE</td>\n",
       "    </tr>\n",
       "    <tr>\n",
       "      <th>3</th>\n",
       "      <td>NON_FOOD_GOODS</td>\n",
       "    </tr>\n",
       "    <tr>\n",
       "      <th>4</th>\n",
       "      <td>LOAN</td>\n",
       "    </tr>\n",
       "    <tr>\n",
       "      <th>5</th>\n",
       "      <td>NOT_CLASSIFIED</td>\n",
       "    </tr>\n",
       "    <tr>\n",
       "      <th>...</th>\n",
       "      <td>...</td>\n",
       "    </tr>\n",
       "    <tr>\n",
       "      <th>496</th>\n",
       "      <td>TAX</td>\n",
       "    </tr>\n",
       "    <tr>\n",
       "      <th>497</th>\n",
       "      <td>BANK_SERVICE</td>\n",
       "    </tr>\n",
       "    <tr>\n",
       "      <th>498</th>\n",
       "      <td>SERVICE</td>\n",
       "    </tr>\n",
       "    <tr>\n",
       "      <th>499</th>\n",
       "      <td>FOOD_GOODS</td>\n",
       "    </tr>\n",
       "    <tr>\n",
       "      <th>500</th>\n",
       "      <td>SERVICE</td>\n",
       "    </tr>\n",
       "  </tbody>\n",
       "</table>\n",
       "<p>500 rows × 1 columns</p>\n",
       "</div>"
      ],
      "text/plain": [
       "             labels\n",
       "1           SERVICE\n",
       "2           SERVICE\n",
       "3    NON_FOOD_GOODS\n",
       "4              LOAN\n",
       "5    NOT_CLASSIFIED\n",
       "..              ...\n",
       "496             TAX\n",
       "497    BANK_SERVICE\n",
       "498         SERVICE\n",
       "499      FOOD_GOODS\n",
       "500         SERVICE\n",
       "\n",
       "[500 rows x 1 columns]"
      ]
     },
     "execution_count": 84,
     "metadata": {},
     "output_type": "execute_result"
    }
   ],
   "source": [
    "df"
   ]
  },
  {
   "cell_type": "code",
   "execution_count": 69,
   "metadata": {},
   "outputs": [
    {
     "data": {
      "text/plain": [
       "Int64Index([  1,   2,   3,   4,   5,   6,   7,   8,   9,  10,\n",
       "            ...\n",
       "            491, 492, 493, 494, 495, 496, 497, 498, 499, 500],\n",
       "           dtype='int64', name='number', length=500)"
      ]
     },
     "execution_count": 69,
     "metadata": {},
     "output_type": "execute_result"
    }
   ],
   "source": [
    "test_data.index"
   ]
  },
  {
   "cell_type": "code",
   "execution_count": 85,
   "metadata": {},
   "outputs": [],
   "source": [
    "df.to_csv('result.tsv', header=False, sep='\\t')"
   ]
  },
  {
   "cell_type": "code",
   "execution_count": 88,
   "metadata": {},
   "outputs": [
    {
     "name": "stdout",
     "output_type": "stream",
     "text": [
      "Файл result.tsv загружен\n"
     ]
    }
   ],
   "source": [
    "column_with_text, columns_with_category = 'text', 'category'\n",
    "try:\n",
    "    test_data = pd.read_csv('/home/yagor/Рабочий стол/BIV/biv_hack/data/result.tsv', index_col=0, sep='\\t', names = ['number',  columns_with_category])\n",
    "    print(f\"Файл {'result.tsv'} загружен\")\n",
    "except Exception as ex:\n",
    "    print(ex)\n",
    "    print('Загрузите Ваш .tsv файл в правильном формате')"
   ]
  },
  {
   "cell_type": "code",
   "execution_count": 89,
   "metadata": {},
   "outputs": [
    {
     "data": {
      "text/html": [
       "<div>\n",
       "<style scoped>\n",
       "    .dataframe tbody tr th:only-of-type {\n",
       "        vertical-align: middle;\n",
       "    }\n",
       "\n",
       "    .dataframe tbody tr th {\n",
       "        vertical-align: top;\n",
       "    }\n",
       "\n",
       "    .dataframe thead th {\n",
       "        text-align: right;\n",
       "    }\n",
       "</style>\n",
       "<table border=\"1\" class=\"dataframe\">\n",
       "  <thead>\n",
       "    <tr style=\"text-align: right;\">\n",
       "      <th></th>\n",
       "      <th>category</th>\n",
       "    </tr>\n",
       "    <tr>\n",
       "      <th>number</th>\n",
       "      <th></th>\n",
       "    </tr>\n",
       "  </thead>\n",
       "  <tbody>\n",
       "    <tr>\n",
       "      <th>1</th>\n",
       "      <td>SERVICE</td>\n",
       "    </tr>\n",
       "    <tr>\n",
       "      <th>2</th>\n",
       "      <td>SERVICE</td>\n",
       "    </tr>\n",
       "    <tr>\n",
       "      <th>3</th>\n",
       "      <td>NON_FOOD_GOODS</td>\n",
       "    </tr>\n",
       "    <tr>\n",
       "      <th>4</th>\n",
       "      <td>LOAN</td>\n",
       "    </tr>\n",
       "    <tr>\n",
       "      <th>5</th>\n",
       "      <td>NOT_CLASSIFIED</td>\n",
       "    </tr>\n",
       "    <tr>\n",
       "      <th>...</th>\n",
       "      <td>...</td>\n",
       "    </tr>\n",
       "    <tr>\n",
       "      <th>496</th>\n",
       "      <td>TAX</td>\n",
       "    </tr>\n",
       "    <tr>\n",
       "      <th>497</th>\n",
       "      <td>BANK_SERVICE</td>\n",
       "    </tr>\n",
       "    <tr>\n",
       "      <th>498</th>\n",
       "      <td>SERVICE</td>\n",
       "    </tr>\n",
       "    <tr>\n",
       "      <th>499</th>\n",
       "      <td>FOOD_GOODS</td>\n",
       "    </tr>\n",
       "    <tr>\n",
       "      <th>500</th>\n",
       "      <td>SERVICE</td>\n",
       "    </tr>\n",
       "  </tbody>\n",
       "</table>\n",
       "<p>500 rows × 1 columns</p>\n",
       "</div>"
      ],
      "text/plain": [
       "              category\n",
       "number                \n",
       "1              SERVICE\n",
       "2              SERVICE\n",
       "3       NON_FOOD_GOODS\n",
       "4                 LOAN\n",
       "5       NOT_CLASSIFIED\n",
       "...                ...\n",
       "496                TAX\n",
       "497       BANK_SERVICE\n",
       "498            SERVICE\n",
       "499         FOOD_GOODS\n",
       "500            SERVICE\n",
       "\n",
       "[500 rows x 1 columns]"
      ]
     },
     "execution_count": 89,
     "metadata": {},
     "output_type": "execute_result"
    }
   ],
   "source": [
    "test_data"
   ]
  },
  {
   "cell_type": "code",
   "execution_count": 87,
   "metadata": {},
   "outputs": [
    {
     "data": {
      "text/html": [
       "<div>\n",
       "<style scoped>\n",
       "    .dataframe tbody tr th:only-of-type {\n",
       "        vertical-align: middle;\n",
       "    }\n",
       "\n",
       "    .dataframe tbody tr th {\n",
       "        vertical-align: top;\n",
       "    }\n",
       "\n",
       "    .dataframe thead th {\n",
       "        text-align: right;\n",
       "    }\n",
       "</style>\n",
       "<table border=\"1\" class=\"dataframe\">\n",
       "  <thead>\n",
       "    <tr style=\"text-align: right;\">\n",
       "      <th></th>\n",
       "      <th>category</th>\n",
       "    </tr>\n",
       "    <tr>\n",
       "      <th>number</th>\n",
       "      <th></th>\n",
       "    </tr>\n",
       "  </thead>\n",
       "  <tbody>\n",
       "    <tr>\n",
       "      <th>1</th>\n",
       "      <td>SERVICE</td>\n",
       "    </tr>\n",
       "    <tr>\n",
       "      <th>2</th>\n",
       "      <td>SERVICE</td>\n",
       "    </tr>\n",
       "    <tr>\n",
       "      <th>3</th>\n",
       "      <td>NON_FOOD_GOODS</td>\n",
       "    </tr>\n",
       "    <tr>\n",
       "      <th>4</th>\n",
       "      <td>LOAN</td>\n",
       "    </tr>\n",
       "    <tr>\n",
       "      <th>5</th>\n",
       "      <td>NOT_CLASSIFIED</td>\n",
       "    </tr>\n",
       "    <tr>\n",
       "      <th>...</th>\n",
       "      <td>...</td>\n",
       "    </tr>\n",
       "    <tr>\n",
       "      <th>496</th>\n",
       "      <td>TAX</td>\n",
       "    </tr>\n",
       "    <tr>\n",
       "      <th>497</th>\n",
       "      <td>BANK_SERVICE</td>\n",
       "    </tr>\n",
       "    <tr>\n",
       "      <th>498</th>\n",
       "      <td>SERVICE</td>\n",
       "    </tr>\n",
       "    <tr>\n",
       "      <th>499</th>\n",
       "      <td>FOOD_GOODS</td>\n",
       "    </tr>\n",
       "    <tr>\n",
       "      <th>500</th>\n",
       "      <td>SERVICE</td>\n",
       "    </tr>\n",
       "  </tbody>\n",
       "</table>\n",
       "<p>500 rows × 1 columns</p>\n",
       "</div>"
      ],
      "text/plain": [
       "              category\n",
       "number                \n",
       "1              SERVICE\n",
       "2              SERVICE\n",
       "3       NON_FOOD_GOODS\n",
       "4                 LOAN\n",
       "5       NOT_CLASSIFIED\n",
       "...                ...\n",
       "496                TAX\n",
       "497       BANK_SERVICE\n",
       "498            SERVICE\n",
       "499         FOOD_GOODS\n",
       "500            SERVICE\n",
       "\n",
       "[500 rows x 1 columns]"
      ]
     },
     "execution_count": 87,
     "metadata": {},
     "output_type": "execute_result"
    }
   ],
   "source": [
    "test_data"
   ]
  }
 ],
 "metadata": {
  "kernelspec": {
   "display_name": "torch",
   "language": "python",
   "name": "torch"
  },
  "language_info": {
   "codemirror_mode": {
    "name": "ipython",
    "version": 3
   },
   "file_extension": ".py",
   "mimetype": "text/x-python",
   "name": "python",
   "nbconvert_exporter": "python",
   "pygments_lexer": "ipython3",
   "version": "3.9.13"
  },
  "orig_nbformat": 4,
  "vscode": {
   "interpreter": {
    "hash": "13817f8bfaf6244a5bdc7f32f3f11f9be8f2d1244bd341f6811bf2e18438b9c9"
   }
  }
 },
 "nbformat": 4,
 "nbformat_minor": 2
}
